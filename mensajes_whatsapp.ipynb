{
 "cells": [
  {
   "cell_type": "markdown",
   "id": "9a9e9066-7d2c-4b87-bd63-8f65042550ee",
   "metadata": {},
   "source": [
    "# Envío de Mensajes por WhatsApp \n",
    "\n",
    "A continuación se pone en práctica como enviar mensajes personalizados a través de WhatsApp Web utilizando Python.\n",
    "La funcionalidad principal incluye la validación de números de teléfono y la capacidad de adjuntar archivos, como videos, al mensaje.\n",
    "\n",
    "## Requisitos\n",
    "- `Python 3.x`\n",
    "  \n",
    "- Bibliotecas:\n",
    "    - `pandas`\n",
    "    - `re`\n",
    "    - `io`\n",
    "    - `sys`\n",
    "    - `time`\n",
    "    - `webbrowser`\n",
    "    - `pyautogui`\n",
    "    - `pyperclip`\n",
    "\n",
    "### **Autor**: [Faiber Andres Chaparro Vivanco](https://github.com/FaiberCh)\n",
    "\n",
    "### 20-10-2024"
   ]
  },
  {
   "cell_type": "markdown",
   "id": "eff31604-dc74-40a5-8eb1-6048e21d1930",
   "metadata": {},
   "source": [
    "## Importar bibliotecas"
   ]
  },
  {
   "cell_type": "code",
   "execution_count": 1,
   "id": "c56c6d83-a949-4651-870a-e232b44681eb",
   "metadata": {},
   "outputs": [],
   "source": [
    "import webbrowser\n",
    "import pyautogui\n",
    "import pyperclip\n",
    "import re\n",
    "import time\n",
    "import io\n",
    "import sys\n",
    "import pandas as pd\n",
    "\n",
    "from datetime import datetime\n"
   ]
  },
  {
   "cell_type": "code",
   "execution_count": 9,
   "id": "7e44efa2-0d34-4d76-b003-962e2a640e3b",
   "metadata": {},
   "outputs": [],
   "source": [
    "# Contacto al se le enviara el mensajes de aviso de finalización\n",
    "numero = '3110000000'\n",
    "\n",
    "# Ruta del archivo mp4\n",
    "ruta_video = r'C:\\ruta\\al\\video.mp4'"
   ]
  },
  {
   "cell_type": "code",
   "execution_count": 19,
   "id": "1b3f4446-a417-4f32-a2d6-15df7fbcd41e",
   "metadata": {},
   "outputs": [
    {
     "name": "stdout",
     "output_type": "stream",
     "text": [
      "Mover el mouse sobre el ícono de adjuntar en WhatsApp Web.\n",
      "Las coordenadas se mostrarán después de 5 segundos.\n",
      "Coordenadas del mouse: X=1068, Y=451\n"
     ]
    }
   ],
   "source": [
    "# Obtener cordenadas de botones a oprimir\n",
    "print(\"Mover el mouse sobre el ícono de adjuntar en WhatsApp Web.\")\n",
    "print(\"Las coordenadas se mostrarán después de 5 segundos.\")\n",
    "sleep(5)\n",
    "\n",
    "# Imprimir la posición actual del mouse\n",
    "x, y = pyautogui.position()\n",
    "print(f\"Coordenadas del mouse: X={x}, Y={y}\")"
   ]
  },
  {
   "cell_type": "code",
   "execution_count": 3,
   "id": "4f9eaeb9-102b-4160-9c8a-3ad0930db27e",
   "metadata": {},
   "outputs": [],
   "source": [
    "# Función para validar el formato del número de teléfono\n",
    "def is_valid_number(number):\n",
    "    # Verifica que el número tenga 10 dígitos, sea numérico y comience con '3'\n",
    "    return re.match(r'^3\\d{9}$', number) is not None\n",
    "\n",
    "\n",
    "def send_whatsapp_messages(df, var, ruta_video): # message, \n",
    "\n",
    "    # Inicio\n",
    "    inicio = datetime.now()\n",
    "    \n",
    "    # Lista para almacenar errores\n",
    "    error_log = []\n",
    "\n",
    "    # Redirigir la salida estándar para capturar mensajes de error\n",
    "    old_stdout = sys.stdout\n",
    "    new_stdout = io.StringIO()\n",
    "    sys.stdout = new_stdout\n",
    "\n",
    "    for index, row in df.iterrows():  # Iterar sobre el DataFrame\n",
    "        cell = str(row[var]).replace(\" \", \"\")  # 3) cell = str(row[var]).replace(\" \", \"\") # 2) cell = row[var].astype(str).replace(\" \", \"\") # 1) cell = row[var].replace(\" \", \"\") # Eliminar espacios innecesarios de la cadena de caracteres\n",
    "\n",
    "        if is_valid_number(cell):  # Valida el número antes de enviar\n",
    "            try:\n",
    "                # Abre WhatsApp Web en el chat del número especificado\n",
    "                url = f'https://web.whatsapp.com/send?phone=+57{cell}'\n",
    "                webbrowser.open(url)\n",
    "                time.sleep(15)  # Espera a que WhatsApp Web cargue\n",
    "\n",
    "                # Simula la acción de adjuntar un archivo\n",
    "                pyautogui.click(x=993, y=972)  # Cambia las coordenadas según la posición del ícono de adjuntar\n",
    "                time.sleep(1)\n",
    "\n",
    "                # Selecciona \"Documentos\"\n",
    "                pyautogui.click(x=1068, y=451)  # Cambia las coordenadas según la posición de \"Documentos\"\n",
    "                time.sleep(1)\n",
    "\n",
    "                # Escribe la ruta del video y presiona Enter\n",
    "                pyautogui.typewrite(ruta_video)\n",
    "                pyautogui.press('enter')\n",
    "\n",
    "                # Espera a que el video se cargue\n",
    "                time.sleep(5)\n",
    "                \n",
    "                # Mensaje a enviar\n",
    "                message = (\n",
    "                    \"¡Hola! Este es un mensaje de prueba\\n\" +\n",
    "                    \"enviado automáticamente.\\n\\n\" +\n",
    "                    \"Si recibes esto, significa que\\n\" +\n",
    "                    \"el código está funcionando\\n\" +\n",
    "                    \"correctamente. 😊\"\n",
    "                )\n",
    "\n",
    "                # Copia el mensaje al portapapeles\n",
    "                pyperclip.copy(message)\n",
    "                pyautogui.hotkey('ctrl', 'v')  # Pega el mensaje en el campo de texto\n",
    "                pyautogui.press('enter')  # Presiona Enter para enviar el mensaje\n",
    "\n",
    "                print(f'Mensaje enviado a: +57{cell}')\n",
    "                time.sleep(5)  # Espera 10 segundos\n",
    "\n",
    "                # Cierra la pestaña de WhatsApp Web\n",
    "                pyautogui.hotkey('ctrl', 'w')  # Cierra la pestaña actual\n",
    "\n",
    "            except Exception as e:\n",
    "                # Manejo de errores\n",
    "                print(f'Error al enviar el mensaje a +57{cell}: {e}')\n",
    "                error_log.append((index + 1, f\"+57{cell}\", str(e)))  # Guarda el índice, el número y el error\n",
    "        else:\n",
    "            print(f'Número inválido: +57{cell}')\n",
    "            # Verificar si todos los caracteres son dígitos\n",
    "            if cell.isdigit():\n",
    "                error_log.append((index + 1, f\"+57{cell}\", \"Número inválido\"))  # Guarda el índice, el número y el error\n",
    "            else:\n",
    "                error_log.append((index + 1, f\"+57{cell}\", \"No es un Número\"))\n",
    "\n",
    "    # Restaurar la salida estándar\n",
    "    sys.stdout = old_stdout\n",
    "\n",
    "    # Obtener el contenido capturado\n",
    "    output = new_stdout.getvalue()\n",
    "    new_stdout.close()\n",
    "\n",
    "    # Imprimir el log de errores\n",
    "    print(\"Log de errores:\")\n",
    "    for index, number, error in error_log:\n",
    "        print(f'Índice: {index}, Número: {number}, Error: {error}')\n",
    "\n",
    "    # Final\n",
    "    final = datetime.now()\n",
    "    \n",
    "    # Aviso de finalización por WhatsApp\n",
    "    webbrowser.open('https://web.whatsapp.com/send?phone=+57' + numero)    \n",
    "    # Espera un momento para que puedas abrir WhatsApp Web\n",
    "    time.sleep(15)  # Abre WhatsApp Web y selecciona el chat\n",
    "\n",
    "    # Mensaje de finalización\n",
    "    mensaje = f\"Proceso iniciado el {inicio.strftime('%d-%m-%Y')} a las {inicio.strftime('%H:%M:%S')}\\n\\n*Proceso finalizado exitosamente!* 👍🏻\\nFinalizó a las {final.strftime(\"%H:%M:%S\")}\\n*{len(df)}* mensajes enviados 😊\"\n",
    "\n",
    "    # Copia el mensaje al portapapeles\n",
    "    pyperclip.copy(mensaje)\n",
    "\n",
    "    # Pega el mensaje en el campo de texto de WhatsApp\n",
    "    pyautogui.hotkey('ctrl', 'v')\n",
    "\n",
    "    # Presiona Enter para enviar el mensaje\n",
    "    pyautogui.press('enter')\n",
    "\n",
    "    time.sleep(5)  # Espera 10 segundos\n",
    "\n",
    "    # Cierra la pestaña de WhatsApp Web\n",
    "    pyautogui.hotkey('ctrl', 'w')  # Cierra la pestaña actual\n",
    "\n"
   ]
  },
  {
   "cell_type": "code",
   "execution_count": 4,
   "id": "d360febb-5c68-4342-baa1-6bc0f9a68997",
   "metadata": {},
   "outputs": [],
   "source": [
    "# Ejemplo de uso:\n",
    "# send_whatsapp_messages(DataFrame, variable, ruta_video)\n"
   ]
  },
  {
   "cell_type": "markdown",
   "id": "5997cdf4-ed1a-4fdd-b3fb-93571bdaef5b",
   "metadata": {},
   "source": [
    "## Implementando la función"
   ]
  },
  {
   "cell_type": "markdown",
   "id": "a09c934a-1aff-4579-b0c4-497f3871008e",
   "metadata": {},
   "source": [
    "### Prueba piloto"
   ]
  },
  {
   "cell_type": "code",
   "execution_count": 5,
   "id": "be42206b-96f5-4a52-979f-9c0470dba6ad",
   "metadata": {},
   "outputs": [],
   "source": [
    "# DataFrame de prueba\n",
    "data = {'n_cell': [3050000000, 3500000000]} \n",
    "df = pd.DataFrame(data)\n"
   ]
  },
  {
   "cell_type": "code",
   "execution_count": 8,
   "id": "3f9de4c1-001c-4d33-8d37-0609402dfd53",
   "metadata": {},
   "outputs": [
    {
     "name": "stdout",
     "output_type": "stream",
     "text": [
      "Proceso iniciado el 22-10-2024 a las 20:02:05\n",
      "Log de errores:\n",
      "Proceso terminado a las 20:03:21\n",
      "2 mensajes enviados\n"
     ]
    }
   ],
   "source": [
    "# Prueba\n",
    "print(f\"Proceso iniciado el {datetime.now().strftime('%d-%m-%Y')} a las {datetime.now().strftime('%H:%M:%S')}\")\n",
    "\n",
    "send_whatsapp_messages(df, 'n_cell', ruta_video)\n",
    "\n",
    "print(f\"Proceso terminado a las {datetime.now().strftime(\"%H:%M:%S\")}\\n{len(df)} mensajes enviados\")\n"
   ]
  },
  {
   "cell_type": "code",
   "execution_count": null,
   "id": "012d3b3c-fb5b-45f4-9c15-9f36d0041ad6",
   "metadata": {},
   "outputs": [],
   "source": []
  },
  {
   "cell_type": "markdown",
   "id": "30b67a1c-5b5f-4016-84cf-6ad3359b9376",
   "metadata": {},
   "source": [
    "---\n",
    "---"
   ]
  }
 ],
 "metadata": {
  "kernelspec": {
   "display_name": "Python 3 (ipykernel)",
   "language": "python",
   "name": "python3"
  },
  "language_info": {
   "codemirror_mode": {
    "name": "ipython",
    "version": 3
   },
   "file_extension": ".py",
   "mimetype": "text/x-python",
   "name": "python",
   "nbconvert_exporter": "python",
   "pygments_lexer": "ipython3",
   "version": "3.12.6"
  }
 },
 "nbformat": 4,
 "nbformat_minor": 5
}
